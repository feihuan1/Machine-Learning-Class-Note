{
 "cells": [
  {
   "cell_type": "markdown",
   "id": "2b35ae8e",
   "metadata": {},
   "source": [
    "# Data processing Tempplate"
   ]
  },
  {
   "cell_type": "markdown",
   "id": "ead16765",
   "metadata": {},
   "source": [
    "### Importing the Libs"
   ]
  },
  {
   "cell_type": "code",
   "execution_count": null,
   "id": "8711832b",
   "metadata": {},
   "outputs": [],
   "source": [
    "import numpy as np\n",
    "import pandas as pd\n",
    "import matplotlib.pyplot as plt"
   ]
  },
  {
   "cell_type": "markdown",
   "id": "5772c0c4",
   "metadata": {},
   "source": [
    "### Importing dataset"
   ]
  },
  {
   "cell_type": "code",
   "execution_count": null,
   "id": "6dc1d8af",
   "metadata": {},
   "outputs": [],
   "source": [
    "dataset = pd.read_csv(\"Data.csv\")\n",
    "x = dataset.iloc[:, :-1].values\n",
    "y = dataset.iloc[:, -1].values"
   ]
  },
  {
   "cell_type": "markdown",
   "id": "fd1b75b8",
   "metadata": {},
   "source": [
    "### Splitting Traning and Test set"
   ]
  },
  {
   "cell_type": "code",
   "execution_count": null,
   "id": "442c9ee6",
   "metadata": {},
   "outputs": [],
   "source": [
    "from sklearn.model_selection import train_test_split\n",
    "x_train, x_test, y_train, t_test = train_test_split(x, y, test_size = 0.2, random_state = 0)"
   ]
  }
 ],
 "metadata": {
  "kernelspec": {
   "display_name": "Python 3",
   "language": "python",
   "name": "python3"
  },
  "language_info": {
   "name": "python",
   "version": "3.13.3"
  }
 },
 "nbformat": 4,
 "nbformat_minor": 5
}
